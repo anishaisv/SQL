{
 "cells": [
  {
   "cell_type": "code",
   "execution_count": 46,
   "id": "4e0f14b9-0d09-44d9-9009-a0557fb917d1",
   "metadata": {},
   "outputs": [
    {
     "name": "stdout",
     "output_type": "stream",
     "text": [
      "\u001b[1m============================= test session starts =============================\u001b[0m\n",
      "platform win32 -- Python 3.12.7, pytest-7.4.4, pluggy-1.0.0\n",
      "rootdir: C:\\Users\\arulr\\DA course\\SQL\\Assessment2\n",
      "plugins: anyio-4.2.0\n",
      "collected 5 items\n",
      "\n",
      "test.py \u001b[32m.\u001b[0m\u001b[32m.\u001b[0m\u001b[32m.\u001b[0m\u001b[32m.\u001b[0m\u001b[32m.\u001b[0m\u001b[32m                                                            [100%]\u001b[0m\n",
      "\n",
      "\u001b[32m============================== \u001b[32m\u001b[1m5 passed\u001b[0m\u001b[32m in 0.16s\u001b[0m\u001b[32m ==============================\u001b[0m\n"
     ]
    }
   ],
   "source": [
    "!python -m pytest test.py"
   ]
  },
  {
   "cell_type": "code",
   "execution_count": null,
   "id": "23b10e1f-b0cc-428c-80ef-1ac33e64de71",
   "metadata": {},
   "outputs": [],
   "source": []
  }
 ],
 "metadata": {
  "kernelspec": {
   "display_name": "Python [conda env:base] *",
   "language": "python",
   "name": "conda-base-py"
  },
  "language_info": {
   "codemirror_mode": {
    "name": "ipython",
    "version": 3
   },
   "file_extension": ".py",
   "mimetype": "text/x-python",
   "name": "python",
   "nbconvert_exporter": "python",
   "pygments_lexer": "ipython3",
   "version": "3.12.7"
  }
 },
 "nbformat": 4,
 "nbformat_minor": 5
}
